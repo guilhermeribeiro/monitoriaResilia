{
 "cells": [
  {
   "cell_type": "markdown",
   "metadata": {},
   "source": [
    "# Atividades de listas, filas e pilhas\n",
    "\n",
    "Exercícios resolvidos em sala com a turma."
   ]
  },
  {
   "cell_type": "markdown",
   "metadata": {},
   "source": [
    "1) Escreva uma função em python que receba uma lista com 4 pessoas e simule uma fila de espera de um restaurante lotado, seguindo as regras abaixo:<br><br>\n",
    "   a) Foi liberada uma mesa; <br>\n",
    "   b) Chegou um novo cliente no restaurante;<br>\n",
    "   c) Chegou mais um novo cliente no restaurante;<br>\n",
    "   d) Foram liberadas 4 mesas;<br>\n",
    "   e) Retornar o nome dos clientes que permanecem na fila.<br>"
   ]
  },
  {
   "cell_type": "code",
   "execution_count": null,
   "metadata": {},
   "outputs": [],
   "source": [
    "# Escreva uma função em python que receba uma lista com 4 pessoas e simule uma fila de espera de um restaurante lotado, seguindo as regras abaixo:\n",
    "#   1) Foi liberada uma mesa;\n",
    "#   2) Chegou um novo cliente no restaurante;\n",
    "#   3) Chegou mais um novo cliente no restaurante;\n",
    "#   4) Foram liberadas 4 mesas.\n",
    "#   5) Retornar o nome dos clientes que permanecem na fila.\n",
    "\n",
    "def filaRestaurante(lista):\n",
    "    lista.pop(0)\n",
    "    lista.append(input(\"Digite o nome do novo cliente que chegou ao restaurante: \"))\n",
    "    lista.append(input(\"Digite o nome do novo cliente que chegou ao restaurante: \"))\n",
    "    lista.pop(0)\n",
    "    lista.pop(0)\n",
    "    lista.pop(0)\n",
    "    lista.pop(0)\n",
    "    return lista\n",
    "    \n",
    "list = []\n",
    "for i in range(4):\n",
    "    list.append(input(\"Digite o nome da pessoa que vai ficar na lista de espera: \"))\n",
    "    \n",
    "print(filaRestaurante(list))"
   ]
  },
  {
   "cell_type": "markdown",
   "metadata": {},
   "source": [
    "2) Elabore um algoritmo que: <br>\n",
    "   a) Leia una lista de quinze números; <br>\n",
    "   b) Remova os elementos ímpares; <br>\n",
    "   c) Ordene e exiba em tela o menor e o maior valor. <br>"
   ]
  },
  {
   "cell_type": "code",
   "execution_count": 7,
   "metadata": {},
   "outputs": [
    {
     "name": "stdout",
     "output_type": "stream",
     "text": [
      "Digite um número: 1\n",
      "Digite um número: 3\n",
      "Digite um número: 5\n",
      "Digite um número: 7\n",
      "Digite um número: 1\n",
      "Digite um número: 1\n",
      "Digite um número: 1\n",
      "Digite um número: 1\n",
      "Digite um número: 13\n",
      "Digite um número: 15\n",
      "Digite um número: 17\n",
      "Digite um número: 19\n",
      "Digite um número: 21\n",
      "Digite um número: 23\n",
      "Digite um número: 25\n",
      "Todos os elementos da lista eram ímpares.\n"
     ]
    }
   ],
   "source": [
    "# Elabore um algoritmo que:\n",
    "#   - Leia una lista de quinze números;\n",
    "#   - Remova os elementos ímpares;\n",
    "#   - Ordene e exiba em tela o menor e o maior valor\n",
    "\n",
    "def exercicioRemoveImpares():\n",
    "    lista = []\n",
    "    for i in range(15):\n",
    "        lista.append(int(input('Digite um número: ')))\n",
    "    \n",
    "    indice = 0\n",
    "    tamanhoLista = len(lista)\n",
    "    \n",
    "    while indice < tamanhoLista:\n",
    "        if lista[indice] % 2 > 0:\n",
    "            lista.remove(lista[indice])\n",
    "            tamanhoLista = len(lista)\n",
    "            if indice > 0:\n",
    "                indice -= 1\n",
    "        else:\n",
    "            indice += 1\n",
    "    \n",
    "    if len(lista) > 0:\n",
    "        lista.sort()\n",
    "        print(lista[0])\n",
    "        print(lista[-1])\n",
    "    else:\n",
    "        print('A lista está vazia pois todos os elementos eram ímpares e foram removidos.')\n",
    "\n",
    "        \n",
    "exercicioRemoveImpares()\n",
    "    \n",
    "    \n",
    "    "
   ]
  }
 ],
 "metadata": {
  "kernelspec": {
   "display_name": "Python 3",
   "language": "python",
   "name": "python3"
  },
  "language_info": {
   "codemirror_mode": {
    "name": "ipython",
    "version": 3
   },
   "file_extension": ".py",
   "mimetype": "text/x-python",
   "name": "python",
   "nbconvert_exporter": "python",
   "pygments_lexer": "ipython3",
   "version": "3.6.6+"
  }
 },
 "nbformat": 4,
 "nbformat_minor": 2
}
